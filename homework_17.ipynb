{
  "nbformat": 4,
  "nbformat_minor": 0,
  "metadata": {
    "colab": {
      "provenance": [],
      "authorship_tag": "ABX9TyOJIAfibMXSDq/8xu/CYCk2",
      "include_colab_link": true
    },
    "kernelspec": {
      "name": "python3",
      "display_name": "Python 3"
    },
    "language_info": {
      "name": "python"
    }
  },
  "cells": [
    {
      "cell_type": "markdown",
      "metadata": {
        "id": "view-in-github",
        "colab_type": "text"
      },
      "source": [
        "<a href=\"https://colab.research.google.com/github/gewasaad/Data-Science-Basics/blob/main/homework_17.ipynb\" target=\"_parent\"><img src=\"https://colab.research.google.com/assets/colab-badge.svg\" alt=\"Open In Colab\"/></a>"
      ]
    },
    {
      "cell_type": "code",
      "execution_count": 36,
      "metadata": {
        "id": "Qh30JDqDtryn"
      },
      "outputs": [],
      "source": [
        "import pandas as pd\n",
        "import numpy as np\n",
        "import matplotlib.pyplot as plt\n",
        "import seaborn as sns\n",
        "from sklearn.model_selection import train_test_split\n",
        "from sklearn.ensemble import RandomForestRegressor\n",
        "df=pd.read_csv('/content/train_kaggle_housing.csv')"
      ]
    },
    {
      "cell_type": "code",
      "source": [
        "#Task 1: Data Preparation\n",
        "#Divide the Dataset into Train and Test Sets\n",
        "#●\tLoad the Kaggle Housing Prices dataset.\n",
        "#●\tPerform an initial assessment of the dataset to understand its structure and features.\n",
        "#●\tSplit the dataset into training (70%) and testing (30%) sets using a random seed for reproducibility.\n",
        "train, test=train_test_split(df, test_size=0.3, random_state=42)\n",
        "train= train.copy()\n",
        "test= test.copy()"
      ],
      "metadata": {
        "id": "qufzKa7tmqf4"
      },
      "execution_count": 39,
      "outputs": []
    },
    {
      "cell_type": "code",
      "source": [
        "#Task 2: Building a Basic Random Forest Model\n",
        "#\tCreate a Random Forest Model with Numerical Features\n",
        "#●\tIdentify and isolate the numerical features from the dataset.\n",
        "#●\tRemove any rows with null values in these numerical columns to ensure data integrity.\n",
        "#●\tTrain a Random Forest model on the training set using only these non-null numerical features.\n",
        "#●\tEvaluate the model's performance on the test set using the MSE metrics\n",
        "numeric_cols_df = df.select_dtypes(include=[np.number]).drop('SalePrice', axis=1)\n",
        "x=numeric_cols_df.columns\n",
        "for x in numeric_cols_df:\n",
        "    df[x].fillna(df[x].median(), inplace=True)\n",
        "X = numeric_cols_df\n",
        "y = df['SalePrice']\n",
        "X_train, X_test, y_train, y_test = train_test_split(X, y, test_size=0.3, random_state=42)\n",
        "rf_model=RandomForestRegressor (n_estimators=100)\n",
        "rf_model.fit(X_train,y_train)\n",
        "rf_model.score(X_train,y_train)"
      ],
      "metadata": {
        "colab": {
          "base_uri": "https://localhost:8080/"
        },
        "id": "EtRz6baonfZ8",
        "outputId": "a22778f0-5329-4e39-a0f7-dacba81f6ec7"
      },
      "execution_count": 56,
      "outputs": [
        {
          "output_type": "execute_result",
          "data": {
            "text/plain": [
              "0.9772523661504561"
            ]
          },
          "metadata": {},
          "execution_count": 56
        }
      ]
    },
    {
      "cell_type": "code",
      "source": [
        "#Task 3: Building an Enhanced Random Forest Model\n",
        "#\tData Preprocessing for Categorical Features\n",
        "#●\tIdentify categorical features in the dataset.\n",
        "#●\tConvert these categorical features into dummy variables using one-hot encoding (e.g., pd.get_dummies).\n",
        "#●\tEnsure that dummy variable creation is consistent between train and test sets.#\n",
        "\t#Handling Null Values\n",
        "#●\tFor both numerical and categorical data, fill in missing values.\n",
        "#●\tChoose an appropriate strategy for filling nulls (e.g., mean or median for numerical, mode or a placeholder for categorical).\n",
        "#\tTraining the Full Model\n",
        "#●\tTrain a Random Forest model on the training set, this time using both the numerical and encoded categorical features.\n",
        "#●\tAgain, assess the model's performance on the test set.\n",
        "#\tFeature Importance Analysis\n",
        "#●\tCalculate and analyze feature importance from the Random Forest model.\n",
        "#●\tDecide on the top X features to use for a more streamlined model. Consider different thresholds like top 30, 100, and 200 features based on their importance.\n",
        "#\tModel Accuracy Check\n",
        "#●\tRe-evaluate the model's accuracy with the selected top features.\n",
        "#●\tCompare the accuracy with the initial full-model to understand the impact of feature selection.\n"
      ],
      "metadata": {
        "id": "nkytnpiyHoux"
      },
      "execution_count": 41,
      "outputs": []
    },
    {
      "cell_type": "code",
      "source": [
        "categorical_cols_df = df.select_dtypes(include=['object', 'category', 'bool'])\n",
        "for x in categorical_cols_df:\n",
        "    df[x].fillna('most_frequent', inplace=True)\n",
        "cat_df=pd.get_dummies(categorical_cols_df, drop_first=False)\n",
        "X = cat_df\n",
        "y = df['SalePrice']\n",
        "X_train, X_test, y_train, y_test = train_test_split(X, y, test_size=0.3, random_state=42)\n",
        "rf_model=RandomForestRegressor (n_estimators=100)\n",
        "rf_model.fit(X_train,y_train)\n",
        "rf_model.score(X_train,y_train)"
      ],
      "metadata": {
        "colab": {
          "base_uri": "https://localhost:8080/"
        },
        "id": "wDYWfuR6IArn",
        "outputId": "58612bb6-8bcc-4036-c595-0ab995b68edd"
      },
      "execution_count": 55,
      "outputs": [
        {
          "output_type": "execute_result",
          "data": {
            "text/plain": [
              "0.9602712290598219"
            ]
          },
          "metadata": {},
          "execution_count": 55
        }
      ]
    },
    {
      "cell_type": "code",
      "source": [
        "new_df=pd.concat([numeric_cols_df,cat_df], axis=1)\n",
        "feature_importances = rf_model.feature_importances_\n",
        "feature_importances_df = pd.DataFrame({'Feature': X_train.columns, 'Importance': feature_importances})\n",
        "feature_importances_df = feature_importances_df.sort_values(by='Importance', ascending=False)\n",
        "print(feature_importances_df)\n",
        "feature_importances_df.plot.bar()\n",
        "plt.xlabel='Feature'\n",
        "plt.ylabel='Importance'"
      ],
      "metadata": {
        "colab": {
          "base_uri": "https://localhost:8080/",
          "height": 1000
        },
        "id": "EKf2HPpLDfF4",
        "outputId": "09fb24e7-9418-4971-97d4-bbc0535a507c"
      },
      "execution_count": 88,
      "outputs": [
        {
          "output_type": "stream",
          "name": "stdout",
          "text": [
            "          Feature  Importance\n",
            "4     OverallQual    0.547672\n",
            "16      GrLivArea    0.123579\n",
            "14       2ndFlrSF    0.039650\n",
            "12    TotalBsmtSF    0.034996\n",
            "9      BsmtFinSF1    0.032395\n",
            "13       1stFlrSF    0.027807\n",
            "26     GarageCars    0.024812\n",
            "3         LotArea    0.019088\n",
            "27     GarageArea    0.017503\n",
            "6       YearBuilt    0.016358\n",
            "7    YearRemodAdd    0.012182\n",
            "23   TotRmsAbvGrd    0.010959\n",
            "2     LotFrontage    0.010249\n",
            "29    OpenPorchSF    0.008968\n",
            "25    GarageYrBlt    0.007719\n",
            "32    ScreenPorch    0.006887\n",
            "28     WoodDeckSF    0.006695\n",
            "11      BsmtUnfSF    0.006650\n",
            "0              Id    0.005669\n",
            "5     OverallCond    0.005557\n",
            "8      MasVnrArea    0.005342\n",
            "24     Fireplaces    0.004747\n",
            "1      MSSubClass    0.004729\n",
            "35         MoSold    0.004233\n",
            "19       FullBath    0.003132\n",
            "21   BedroomAbvGr    0.002473\n",
            "36         YrSold    0.002122\n",
            "33       PoolArea    0.001720\n",
            "22   KitchenAbvGr    0.001416\n",
            "17   BsmtFullBath    0.001407\n",
            "10     BsmtFinSF2    0.000909\n",
            "20       HalfBath    0.000817\n",
            "30  EnclosedPorch    0.000664\n",
            "31      3SsnPorch    0.000558\n",
            "18   BsmtHalfBath    0.000139\n",
            "15   LowQualFinSF    0.000102\n",
            "34        MiscVal    0.000095\n"
          ]
        },
        {
          "output_type": "display_data",
          "data": {
            "text/plain": [
              "<Figure size 640x480 with 1 Axes>"
            ],
            "image/png": "[encoded data removed]"
          },
          "metadata": {}
        }
      ]
    },
    {
      "cell_type": "code",
      "source": [],
      "metadata": {
        "id": "E6IDmm2lLkx8"
      },
      "execution_count": null,
      "outputs": []
    }
  ]
}